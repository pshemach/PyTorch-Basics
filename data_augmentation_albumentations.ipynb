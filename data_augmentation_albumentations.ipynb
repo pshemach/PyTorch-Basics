{
  "nbformat": 4,
  "nbformat_minor": 0,
  "metadata": {
    "colab": {
      "provenance": [],
      "authorship_tag": "ABX9TyOTiJKhyXhaGdgZ1Y6KQUlU",
      "include_colab_link": true
    },
    "kernelspec": {
      "name": "python3",
      "display_name": "Python 3"
    },
    "language_info": {
      "name": "python"
    }
  },
  "cells": [
    {
      "cell_type": "markdown",
      "metadata": {
        "id": "view-in-github",
        "colab_type": "text"
      },
      "source": [
        "<a href=\"https://colab.research.google.com/github/pshemach/PyTorch-Basics/blob/main/data_augmentation_albumentations.ipynb\" target=\"_parent\"><img src=\"https://colab.research.google.com/assets/colab-badge.svg\" alt=\"Open In Colab\"/></a>"
      ]
    },
    {
      "cell_type": "code",
      "execution_count": 1,
      "metadata": {
        "colab": {
          "base_uri": "https://localhost:8080/"
        },
        "id": "sUrOZXmLg0ed",
        "outputId": "380338be-d5a2-4c72-9673-2c11806be43e"
      },
      "outputs": [
        {
          "output_type": "stream",
          "name": "stdout",
          "text": [
            "Requirement already satisfied: albumentations in /usr/local/lib/python3.10/dist-packages (1.3.1)\n",
            "Collecting albumentations\n",
            "  Downloading albumentations-1.4.0-py3-none-any.whl (123 kB)\n",
            "\u001b[2K     \u001b[90m━━━━━━━━━━━━━━━━━━━━━━━━━━━━━━━━━━━━━━━━\u001b[0m \u001b[32m123.6/123.6 kB\u001b[0m \u001b[31m3.2 MB/s\u001b[0m eta \u001b[36m0:00:00\u001b[0m\n",
            "\u001b[?25hRequirement already satisfied: numpy>=1.24.4 in /usr/local/lib/python3.10/dist-packages (from albumentations) (1.25.2)\n",
            "Requirement already satisfied: scipy>=1.10.0 in /usr/local/lib/python3.10/dist-packages (from albumentations) (1.11.4)\n",
            "Collecting scikit-image>=0.21.0 (from albumentations)\n",
            "  Downloading scikit_image-0.22.0-cp310-cp310-manylinux_2_17_x86_64.manylinux2014_x86_64.whl (14.7 MB)\n",
            "\u001b[2K     \u001b[90m━━━━━━━━━━━━━━━━━━━━━━━━━━━━━━━━━━━━━━━━\u001b[0m \u001b[32m14.7/14.7 MB\u001b[0m \u001b[31m34.8 MB/s\u001b[0m eta \u001b[36m0:00:00\u001b[0m\n",
            "\u001b[?25hRequirement already satisfied: PyYAML in /usr/local/lib/python3.10/dist-packages (from albumentations) (6.0.1)\n",
            "Requirement already satisfied: qudida>=0.0.4 in /usr/local/lib/python3.10/dist-packages (from albumentations) (0.0.4)\n",
            "Collecting opencv-python>=4.9.0 (from albumentations)\n",
            "  Downloading opencv_python-4.9.0.80-cp37-abi3-manylinux_2_17_x86_64.manylinux2014_x86_64.whl (62.2 MB)\n",
            "\u001b[2K     \u001b[90m━━━━━━━━━━━━━━━━━━━━━━━━━━━━━━━━━━━━━━━━\u001b[0m \u001b[32m62.2/62.2 MB\u001b[0m \u001b[31m10.2 MB/s\u001b[0m eta \u001b[36m0:00:00\u001b[0m\n",
            "\u001b[?25hRequirement already satisfied: scikit-learn>=0.19.1 in /usr/local/lib/python3.10/dist-packages (from qudida>=0.0.4->albumentations) (1.2.2)\n",
            "Requirement already satisfied: typing-extensions in /usr/local/lib/python3.10/dist-packages (from qudida>=0.0.4->albumentations) (4.10.0)\n",
            "Requirement already satisfied: opencv-python-headless>=4.0.1 in /usr/local/lib/python3.10/dist-packages (from qudida>=0.0.4->albumentations) (4.9.0.80)\n",
            "Requirement already satisfied: networkx>=2.8 in /usr/local/lib/python3.10/dist-packages (from scikit-image>=0.21.0->albumentations) (3.2.1)\n",
            "Requirement already satisfied: pillow>=9.0.1 in /usr/local/lib/python3.10/dist-packages (from scikit-image>=0.21.0->albumentations) (9.4.0)\n",
            "Requirement already satisfied: imageio>=2.27 in /usr/local/lib/python3.10/dist-packages (from scikit-image>=0.21.0->albumentations) (2.31.6)\n",
            "Requirement already satisfied: tifffile>=2022.8.12 in /usr/local/lib/python3.10/dist-packages (from scikit-image>=0.21.0->albumentations) (2024.2.12)\n",
            "Requirement already satisfied: packaging>=21 in /usr/local/lib/python3.10/dist-packages (from scikit-image>=0.21.0->albumentations) (23.2)\n",
            "Requirement already satisfied: lazy_loader>=0.3 in /usr/local/lib/python3.10/dist-packages (from scikit-image>=0.21.0->albumentations) (0.3)\n",
            "Requirement already satisfied: joblib>=1.1.1 in /usr/local/lib/python3.10/dist-packages (from scikit-learn>=0.19.1->qudida>=0.0.4->albumentations) (1.3.2)\n",
            "Requirement already satisfied: threadpoolctl>=2.0.0 in /usr/local/lib/python3.10/dist-packages (from scikit-learn>=0.19.1->qudida>=0.0.4->albumentations) (3.3.0)\n",
            "Installing collected packages: opencv-python, scikit-image, albumentations\n",
            "  Attempting uninstall: opencv-python\n",
            "    Found existing installation: opencv-python 4.8.0.76\n",
            "    Uninstalling opencv-python-4.8.0.76:\n",
            "      Successfully uninstalled opencv-python-4.8.0.76\n",
            "  Attempting uninstall: scikit-image\n",
            "    Found existing installation: scikit-image 0.19.3\n",
            "    Uninstalling scikit-image-0.19.3:\n",
            "      Successfully uninstalled scikit-image-0.19.3\n",
            "  Attempting uninstall: albumentations\n",
            "    Found existing installation: albumentations 1.3.1\n",
            "    Uninstalling albumentations-1.3.1:\n",
            "      Successfully uninstalled albumentations-1.3.1\n",
            "Successfully installed albumentations-1.4.0 opencv-python-4.9.0.80 scikit-image-0.22.0\n"
          ]
        }
      ],
      "source": [
        "!pip install -U albumentations"
      ]
    },
    {
      "cell_type": "code",
      "source": [
        "!pip install opencv-python"
      ],
      "metadata": {
        "colab": {
          "base_uri": "https://localhost:8080/"
        },
        "id": "ZyK3m-RBhAt0",
        "outputId": "fa85c607-d9f7-4a41-ebc1-a1e46d7cf46e"
      },
      "execution_count": 2,
      "outputs": [
        {
          "output_type": "stream",
          "name": "stdout",
          "text": [
            "Requirement already satisfied: opencv-python in /usr/local/lib/python3.10/dist-packages (4.9.0.80)\n",
            "Requirement already satisfied: numpy>=1.21.2 in /usr/local/lib/python3.10/dist-packages (from opencv-python) (1.25.2)\n"
          ]
        }
      ]
    },
    {
      "cell_type": "code",
      "source": [
        "import albumentations as A"
      ],
      "metadata": {
        "id": "Cc--IiJihPJ-"
      },
      "execution_count": 3,
      "outputs": []
    },
    {
      "cell_type": "code",
      "source": [
        "import torch\n",
        "from PIL import Image\n",
        "import numpy as np"
      ],
      "metadata": {
        "id": "wDc5D5SQheKP"
      },
      "execution_count": 4,
      "outputs": []
    },
    {
      "cell_type": "code",
      "source": [
        "transform = A.Compose([\n",
        "    A.HorizontalFlip(p=0.5),\n",
        "])"
      ],
      "metadata": {
        "id": "X-EYHIHYh3jJ"
      },
      "execution_count": 6,
      "outputs": []
    },
    {
      "cell_type": "code",
      "source": [
        "normal_image = Image.open('family.jpg')\n",
        "image = np.array(normal_image)"
      ],
      "metadata": {
        "id": "h1VWq28nh-TR"
      },
      "execution_count": 7,
      "outputs": []
    },
    {
      "cell_type": "code",
      "source": [
        "transformImage = transform(image=image)"
      ],
      "metadata": {
        "id": "n-pCZpmYiitN"
      },
      "execution_count": 8,
      "outputs": []
    },
    {
      "cell_type": "code",
      "source": [
        "print(transformImage)"
      ],
      "metadata": {
        "colab": {
          "base_uri": "https://localhost:8080/"
        },
        "id": "XVt8ptxwisJ8",
        "outputId": "b05f6586-8434-408a-abf5-e99272f03bd1"
      },
      "execution_count": 9,
      "outputs": [
        {
          "output_type": "stream",
          "name": "stdout",
          "text": [
            "{'image': array([[[ 95,  87,  12],\n",
            "        [102,  95,  17],\n",
            "        [110, 101,  22],\n",
            "        ...,\n",
            "        [ 35,  29,   3],\n",
            "        [ 34,  28,   4],\n",
            "        [ 33,  27,   3]],\n",
            "\n",
            "       [[ 92,  84,  12],\n",
            "        [ 97,  89,  16],\n",
            "        [102,  94,  19],\n",
            "        ...,\n",
            "        [ 37,  31,   7],\n",
            "        [ 36,  30,   6],\n",
            "        [ 35,  29,   5]],\n",
            "\n",
            "       [[ 82,  74,  11],\n",
            "        [ 85,  77,  12],\n",
            "        [ 88,  81,  13],\n",
            "        ...,\n",
            "        [ 38,  32,   8],\n",
            "        [ 37,  31,   7],\n",
            "        [ 37,  31,   9]],\n",
            "\n",
            "       ...,\n",
            "\n",
            "       [[215, 157, 143],\n",
            "        [216, 158, 144],\n",
            "        [217, 159, 145],\n",
            "        ...,\n",
            "        [124,  44,  33],\n",
            "        [124,  44,  33],\n",
            "        [124,  44,  33]],\n",
            "\n",
            "       [[213, 155, 141],\n",
            "        [214, 156, 142],\n",
            "        [215, 157, 143],\n",
            "        ...,\n",
            "        [123,  43,  32],\n",
            "        [122,  42,  31],\n",
            "        [122,  42,  31]],\n",
            "\n",
            "       [[211, 153, 139],\n",
            "        [212, 154, 140],\n",
            "        [213, 155, 141],\n",
            "        ...,\n",
            "        [122,  42,  31],\n",
            "        [122,  42,  31],\n",
            "        [121,  41,  30]]], dtype=uint8)}\n"
          ]
        }
      ]
    },
    {
      "cell_type": "code",
      "source": [
        "transformImage = transformImage['image']"
      ],
      "metadata": {
        "id": "2VmR_ccaiwX1"
      },
      "execution_count": 10,
      "outputs": []
    },
    {
      "cell_type": "code",
      "source": [
        "transformImage = Image.fromarray(transformImage)"
      ],
      "metadata": {
        "id": "L1YYiwvui7jW"
      },
      "execution_count": 11,
      "outputs": []
    },
    {
      "cell_type": "code",
      "source": [
        "transformImage.save('family-transform.jpg')"
      ],
      "metadata": {
        "id": "FP69eV9AjBq3"
      },
      "execution_count": 12,
      "outputs": []
    },
    {
      "cell_type": "code",
      "source": [
        "import os\n",
        "import glob\n",
        "import shutil\n",
        "import io\n",
        "from albumentations.augmentations.transforms import RGBShift\n",
        "from tqdm import tqdm\n",
        "import cv2"
      ],
      "metadata": {
        "id": "0KpDqnsQjIRv"
      },
      "execution_count": 14,
      "outputs": []
    },
    {
      "cell_type": "code",
      "source": [
        "transformList = [\n",
        "    A.Compose([\n",
        "        A.Blur(always_apply=True, p=1.0, blur_limit=(3, 7))\n",
        "    ]),\n",
        "    A.Compose([\n",
        "        A.GaussNoise(always_apply=True, p=1.0, var_limit=(189.14, 294.41), per_channel=True, mean=59.21)\n",
        "    ]),\n",
        "    A.Compose([\n",
        "        A.Flip(always_apply=True, p=1.0)\n",
        "    ]),\n",
        "    A.Compose([\n",
        "        A.Downscale(always_apply=True, p=1.0, scale_min=0.25, scale_max=0.25)\n",
        "    ]),\n",
        "    A.Compose([\n",
        "        A.Equalize(always_apply=True, p=1.0, mode='cv', by_channels=True)\n",
        "    ]),\n",
        "    A.Compose([\n",
        "        A.HorizontalFlip(always_apply=True, p=1.0)\n",
        "    ]),\n",
        "    A.Compose([\n",
        "        A.HueSaturationValue(always_apply=True, p=1.0, hue_shift_limit=(-20, 20), sat_shift_limit=(-7, 30), val_shift_limit=(-47, -14))\n",
        "    ])\n",
        "]"
      ],
      "metadata": {
        "colab": {
          "base_uri": "https://localhost:8080/"
        },
        "id": "JBOIZo6Fr6ZW",
        "outputId": "3f527751-5a17-4989-d5d6-c462eb666418"
      },
      "execution_count": 15,
      "outputs": [
        {
          "output_type": "stream",
          "name": "stderr",
          "text": [
            "/usr/local/lib/python3.10/dist-packages/albumentations/augmentations/transforms.py:1666: UserWarning: Using default interpolation INTER_NEAREST, which is sub-optimal.Please specify interpolation mode for downscale and upscale explicitly.For additional information see this PR https://github.com/albumentations-team/albumentations/pull/584\n",
            "  warnings.warn(\n"
          ]
        }
      ]
    },
    {
      "cell_type": "code",
      "source": [
        "image = cv2.imread('family.jpg')"
      ],
      "metadata": {
        "id": "3bqfq5jVtpEb"
      },
      "execution_count": 16,
      "outputs": []
    },
    {
      "cell_type": "code",
      "source": [
        "image = cv2.cvtColor(image,cv2.COLOR_BGR2RGB)"
      ],
      "metadata": {
        "id": "5-YL7GAytwrK"
      },
      "execution_count": 17,
      "outputs": []
    },
    {
      "cell_type": "code",
      "source": [
        "count = 0"
      ],
      "metadata": {
        "id": "5QD_hn0fuHjp"
      },
      "execution_count": 18,
      "outputs": []
    },
    {
      "cell_type": "code",
      "source": [
        "for augmentation in tqdm(transformList):\n",
        "  augmentedImage = augmentation(image=image)\n",
        "  augmentedImage = augmentedImage['image']\n",
        "  augmentedImage = Image.fromarray(augmentedImage, 'RGB')\n",
        "  augmentedImage.save(f'family{count}.jpg')\n",
        "  count +=1"
      ],
      "metadata": {
        "colab": {
          "base_uri": "https://localhost:8080/"
        },
        "id": "wmjM7HQuuI7R",
        "outputId": "ed1d9af1-e3d6-4520-fd3a-85a55ceafbd4"
      },
      "execution_count": 20,
      "outputs": [
        {
          "output_type": "stream",
          "name": "stderr",
          "text": [
            "100%|██████████| 7/7 [00:00<00:00, 82.35it/s]\n"
          ]
        }
      ]
    }
  ]
}