{
  "nbformat": 4,
  "nbformat_minor": 0,
  "metadata": {
    "colab": {
      "provenance": [],
      "authorship_tag": "ABX9TyOroieF9uyJrMo/OWUrthA4",
      "include_colab_link": true
    },
    "kernelspec": {
      "name": "python3",
      "display_name": "Python 3"
    },
    "language_info": {
      "name": "python"
    }
  },
  "cells": [
    {
      "cell_type": "markdown",
      "metadata": {
        "id": "view-in-github",
        "colab_type": "text"
      },
      "source": [
        "<a href=\"https://colab.research.google.com/github/pshemach/PyTorch-Basics/blob/main/PyTorch_Basics.ipynb\" target=\"_parent\"><img src=\"https://colab.research.google.com/assets/colab-badge.svg\" alt=\"Open In Colab\"/></a>"
      ]
    },
    {
      "cell_type": "code",
      "execution_count": null,
      "metadata": {
        "id": "4senReoPTUos"
      },
      "outputs": [],
      "source": [
        "import torch"
      ]
    },
    {
      "cell_type": "code",
      "source": [
        "tensor1 = torch.tensor(8)\n",
        "tensor1"
      ],
      "metadata": {
        "colab": {
          "base_uri": "https://localhost:8080/"
        },
        "id": "5MlKn-9DTmXO",
        "outputId": "cc51a93d-c79f-4bc8-8190-9c424bb14baa"
      },
      "execution_count": null,
      "outputs": [
        {
          "output_type": "execute_result",
          "data": {
            "text/plain": [
              "tensor(8)"
            ]
          },
          "metadata": {},
          "execution_count": 2
        }
      ]
    },
    {
      "cell_type": "code",
      "source": [
        "tensor1.dtype"
      ],
      "metadata": {
        "colab": {
          "base_uri": "https://localhost:8080/"
        },
        "id": "_kGXoDp5T_TR",
        "outputId": "072781b5-c779-4e4d-f515-ab671cf1fdde"
      },
      "execution_count": null,
      "outputs": [
        {
          "output_type": "execute_result",
          "data": {
            "text/plain": [
              "torch.int64"
            ]
          },
          "metadata": {},
          "execution_count": 3
        }
      ]
    },
    {
      "cell_type": "code",
      "source": [
        "tensor2 = torch.tensor([10,20,30,40])\n",
        "print(tensor2)\n",
        "print(tensor2.dtype)"
      ],
      "metadata": {
        "colab": {
          "base_uri": "https://localhost:8080/"
        },
        "id": "_6IWRKkCUDR4",
        "outputId": "1bde9070-0dfb-411c-de9d-6c4b5e316403"
      },
      "execution_count": null,
      "outputs": [
        {
          "output_type": "stream",
          "name": "stdout",
          "text": [
            "tensor([10, 20, 30, 40])\n",
            "torch.int64\n"
          ]
        }
      ]
    },
    {
      "cell_type": "code",
      "source": [
        "tensor2 = torch.tensor([10,20.0,30,40])\n",
        "print(tensor2)\n",
        "print(tensor2.dtype)"
      ],
      "metadata": {
        "colab": {
          "base_uri": "https://localhost:8080/"
        },
        "id": "p80vU4zWUR6y",
        "outputId": "47559811-ce5b-4d89-e5ac-82ed3bca1be5"
      },
      "execution_count": null,
      "outputs": [
        {
          "output_type": "stream",
          "name": "stdout",
          "text": [
            "tensor([10., 20., 30., 40.])\n",
            "torch.float32\n"
          ]
        }
      ]
    },
    {
      "cell_type": "code",
      "source": [
        "tensor2d = torch.tensor([[12.0,2],[45,2],[3,2],[0,87]])\n",
        "print(tensor2d)\n",
        "print(tensor2d.dtype)"
      ],
      "metadata": {
        "colab": {
          "base_uri": "https://localhost:8080/"
        },
        "id": "TNdEdT54UdJj",
        "outputId": "6166b8aa-8b89-45a7-a93d-b7d87a96f514"
      },
      "execution_count": null,
      "outputs": [
        {
          "output_type": "stream",
          "name": "stdout",
          "text": [
            "tensor([[12.,  2.],\n",
            "        [45.,  2.],\n",
            "        [ 3.,  2.],\n",
            "        [ 0., 87.]])\n",
            "torch.float32\n"
          ]
        }
      ]
    },
    {
      "cell_type": "code",
      "source": [
        "tensor3d = torch.tensor([\n",
        "    [[1,2,3],[4,5,6]],\n",
        "    [[10,20,30],[40,50,60]]\n",
        "])\n",
        "\n",
        "print(tensor3d)\n",
        "print(tensor3d.dtype)"
      ],
      "metadata": {
        "colab": {
          "base_uri": "https://localhost:8080/"
        },
        "id": "fZlh7RXCUz4M",
        "outputId": "29cb4294-dc02-4a84-e18c-81372c43aed7"
      },
      "execution_count": null,
      "outputs": [
        {
          "output_type": "stream",
          "name": "stdout",
          "text": [
            "tensor([[[ 1,  2,  3],\n",
            "         [ 4,  5,  6]],\n",
            "\n",
            "        [[10, 20, 30],\n",
            "         [40, 50, 60]]])\n",
            "torch.int64\n"
          ]
        }
      ]
    },
    {
      "cell_type": "code",
      "source": [
        "stream_list = ['netflix','hulu','prime video','hbo max']\n",
        "\n",
        "from sklearn import preprocessing\n",
        "stringEncoder = preprocessing.LabelEncoder()\n",
        "targets = stringEncoder.fit_transform(stream_list)\n",
        "tensorList = torch.as_tensor(targets)\n",
        "print(tensorList)\n",
        "print(tensorList.dtype)"
      ],
      "metadata": {
        "colab": {
          "base_uri": "https://localhost:8080/"
        },
        "id": "nchFnGJaVT1m",
        "outputId": "384a1ba8-6135-4651-df40-3fe998fb756b"
      },
      "execution_count": null,
      "outputs": [
        {
          "output_type": "stream",
          "name": "stdout",
          "text": [
            "tensor([2, 1, 3, 0])\n",
            "torch.int64\n"
          ]
        }
      ]
    },
    {
      "cell_type": "code",
      "source": [
        "print(tensor1)\n",
        "print(f'Shape {tensor1.shape}\\n')\n",
        "print(tensor2)\n",
        "print(f'Shape {tensor2.shape}\\n')\n",
        "print(tensor2d)\n",
        "print(f'Shape {tensor2d.shape}\\n')\n",
        "print(tensor3d)\n",
        "print(f'Shape {tensor3d.shape}\\n')\n",
        "print(tensorList)\n",
        "print(f'Shape {tensorList.shape}\\n')"
      ],
      "metadata": {
        "colab": {
          "base_uri": "https://localhost:8080/"
        },
        "id": "HdtyvaAYFJDO",
        "outputId": "8ca2f19a-80e8-465c-a355-55286c75d330"
      },
      "execution_count": null,
      "outputs": [
        {
          "output_type": "stream",
          "name": "stdout",
          "text": [
            "tensor(8)\n",
            "Shape torch.Size([])\n",
            "\n",
            "tensor([10., 20., 30., 40.])\n",
            "Shape torch.Size([4])\n",
            "\n",
            "tensor([[12.,  2.],\n",
            "        [45.,  2.],\n",
            "        [ 3.,  2.],\n",
            "        [ 0., 87.]])\n",
            "Shape torch.Size([4, 2])\n",
            "\n",
            "tensor([[[ 1,  2,  3],\n",
            "         [ 4,  5,  6]],\n",
            "\n",
            "        [[10, 20, 30],\n",
            "         [40, 50, 60]]])\n",
            "Shape torch.Size([2, 2, 3])\n",
            "\n",
            "tensor([2, 1, 3, 0])\n",
            "Shape torch.Size([4])\n",
            "\n"
          ]
        }
      ]
    },
    {
      "cell_type": "code",
      "source": [
        "#y = mx + c\n",
        "\n",
        "x = torch.tensor(5.)\n",
        "m = torch.tensor(10., requires_grad=True)\n",
        "c = torch.tensor(20., requires_grad=True)"
      ],
      "metadata": {
        "id": "7ALGJTldGGBa"
      },
      "execution_count": null,
      "outputs": []
    },
    {
      "cell_type": "code",
      "source": [
        "y = m*x + c\n",
        "y"
      ],
      "metadata": {
        "colab": {
          "base_uri": "https://localhost:8080/"
        },
        "id": "god3jO_xIEay",
        "outputId": "67393a4c-5a2a-4246-d829-775c76b45cb5"
      },
      "execution_count": null,
      "outputs": [
        {
          "output_type": "execute_result",
          "data": {
            "text/plain": [
              "tensor(70., grad_fn=<AddBackward0>)"
            ]
          },
          "metadata": {},
          "execution_count": 11
        }
      ]
    },
    {
      "cell_type": "code",
      "source": [
        "y.backward()"
      ],
      "metadata": {
        "id": "U1nyvhzYIUpT"
      },
      "execution_count": null,
      "outputs": []
    },
    {
      "cell_type": "code",
      "source": [
        "print(\"dy/dx\", x.grad)\n",
        "print(\"dy/dm\", m.grad)\n",
        "print(\"dy/dc\", c.grad)"
      ],
      "metadata": {
        "colab": {
          "base_uri": "https://localhost:8080/"
        },
        "id": "-pYqVqO9IZsk",
        "outputId": "b0083047-25eb-45df-842c-93cf3ab324e6"
      },
      "execution_count": null,
      "outputs": [
        {
          "output_type": "stream",
          "name": "stdout",
          "text": [
            "dy/dx None\n",
            "dy/dm tensor(5.)\n",
            "dy/dc tensor(1.)\n"
          ]
        }
      ]
    },
    {
      "cell_type": "code",
      "source": [
        "tensor1 = torch.full((3,2), 20)"
      ],
      "metadata": {
        "id": "GNMn7vwVItvM"
      },
      "execution_count": null,
      "outputs": []
    },
    {
      "cell_type": "code",
      "source": [
        "tensor1"
      ],
      "metadata": {
        "colab": {
          "base_uri": "https://localhost:8080/"
        },
        "id": "QGkXWRQEJb1g",
        "outputId": "a4675082-d6cb-4eec-9981-23d7d8475b94"
      },
      "execution_count": null,
      "outputs": [
        {
          "output_type": "execute_result",
          "data": {
            "text/plain": [
              "tensor([[20, 20],\n",
              "        [20, 20],\n",
              "        [20, 20]])"
            ]
          },
          "metadata": {},
          "execution_count": 15
        }
      ]
    },
    {
      "cell_type": "code",
      "source": [
        "tensor2 = torch.tensor([[20,32],[72,85],[78,30]])\n",
        "print(tensor2)"
      ],
      "metadata": {
        "colab": {
          "base_uri": "https://localhost:8080/"
        },
        "id": "JibM0uMIJdio",
        "outputId": "4c88df14-b965-40c6-fcdb-32d1262f707c"
      },
      "execution_count": null,
      "outputs": [
        {
          "output_type": "stream",
          "name": "stdout",
          "text": [
            "tensor([[20, 32],\n",
            "        [72, 85],\n",
            "        [78, 30]])\n"
          ]
        }
      ]
    },
    {
      "cell_type": "code",
      "source": [
        "#concatination\n",
        "\n",
        "tensorConcat = torch.cat((tensor1,tensor2))"
      ],
      "metadata": {
        "id": "MtnzuJyZJwTh"
      },
      "execution_count": null,
      "outputs": []
    },
    {
      "cell_type": "code",
      "source": [
        "print(tensorConcat)"
      ],
      "metadata": {
        "colab": {
          "base_uri": "https://localhost:8080/"
        },
        "id": "fGthWQXwJ7pS",
        "outputId": "e28cea6a-8090-4563-b0eb-9dfb1cdd675e"
      },
      "execution_count": null,
      "outputs": [
        {
          "output_type": "stream",
          "name": "stdout",
          "text": [
            "tensor([[20, 20],\n",
            "        [20, 20],\n",
            "        [20, 20],\n",
            "        [20, 32],\n",
            "        [72, 85],\n",
            "        [78, 30]])\n"
          ]
        }
      ]
    },
    {
      "cell_type": "code",
      "source": [
        "tensorSin = torch.sin(tensorConcat)\n",
        "tensorSin"
      ],
      "metadata": {
        "id": "GXZUoxb2KBB6",
        "colab": {
          "base_uri": "https://localhost:8080/"
        },
        "outputId": "8aa3a3da-8c8e-4bf4-d2a7-233d598ed8e9"
      },
      "execution_count": null,
      "outputs": [
        {
          "output_type": "execute_result",
          "data": {
            "text/plain": [
              "tensor([[ 0.9129,  0.9129],\n",
              "        [ 0.9129,  0.9129],\n",
              "        [ 0.9129,  0.9129],\n",
              "        [ 0.9129,  0.5514],\n",
              "        [ 0.2538, -0.1761],\n",
              "        [ 0.5140, -0.9880]])"
            ]
          },
          "metadata": {},
          "execution_count": 19
        }
      ]
    },
    {
      "cell_type": "code",
      "source": [
        "reshapedTensor = tensorSin.reshape(3,2,2)\n",
        "reshapedTensor"
      ],
      "metadata": {
        "colab": {
          "base_uri": "https://localhost:8080/"
        },
        "id": "HJoKta-7SE0U",
        "outputId": "34377e79-a2a7-42e4-eb2c-9ca3d101eed3"
      },
      "execution_count": null,
      "outputs": [
        {
          "output_type": "execute_result",
          "data": {
            "text/plain": [
              "tensor([[[ 0.9129,  0.9129],\n",
              "         [ 0.9129,  0.9129]],\n",
              "\n",
              "        [[ 0.9129,  0.9129],\n",
              "         [ 0.9129,  0.5514]],\n",
              "\n",
              "        [[ 0.2538, -0.1761],\n",
              "         [ 0.5140, -0.9880]]])"
            ]
          },
          "metadata": {},
          "execution_count": 20
        }
      ]
    },
    {
      "cell_type": "code",
      "source": [
        "import numpy as np\n",
        "\n",
        "numpyArray = np.array([[10.,20.],[30.,40.]])\n",
        "numpyArray"
      ],
      "metadata": {
        "colab": {
          "base_uri": "https://localhost:8080/"
        },
        "id": "4lUgsGC3SWQN",
        "outputId": "bf8f84ec-8d9b-401d-aefc-560e79f768d0"
      },
      "execution_count": null,
      "outputs": [
        {
          "output_type": "execute_result",
          "data": {
            "text/plain": [
              "array([[10., 20.],\n",
              "       [30., 40.]])"
            ]
          },
          "metadata": {},
          "execution_count": 21
        }
      ]
    },
    {
      "cell_type": "code",
      "source": [
        "torchArray = torch.from_numpy(numpyArray)\n",
        "torchArray"
      ],
      "metadata": {
        "colab": {
          "base_uri": "https://localhost:8080/"
        },
        "id": "KCsAsJDATRCZ",
        "outputId": "9ecd7f4c-e20b-4e31-ea74-f25c7cf32512"
      },
      "execution_count": null,
      "outputs": [
        {
          "output_type": "execute_result",
          "data": {
            "text/plain": [
              "tensor([[10., 20.],\n",
              "        [30., 40.]], dtype=torch.float64)"
            ]
          },
          "metadata": {},
          "execution_count": 22
        }
      ]
    },
    {
      "cell_type": "code",
      "source": [
        "print(numpyArray.dtype)\n",
        "print(torchArray.dtype)"
      ],
      "metadata": {
        "colab": {
          "base_uri": "https://localhost:8080/"
        },
        "id": "qxdXZtO-TaNI",
        "outputId": "47b3aed4-84f6-42f4-b127-49c26e77eaca"
      },
      "execution_count": null,
      "outputs": [
        {
          "output_type": "stream",
          "name": "stdout",
          "text": [
            "float64\n",
            "torch.float64\n"
          ]
        }
      ]
    },
    {
      "cell_type": "code",
      "source": [
        "numpyArray = torchArray.numpy()\n",
        "numpyArray"
      ],
      "metadata": {
        "colab": {
          "base_uri": "https://localhost:8080/"
        },
        "id": "cTnMu2pJTlcR",
        "outputId": "58969a97-e0e7-47b9-abd5-c9ba02652268"
      },
      "execution_count": null,
      "outputs": [
        {
          "output_type": "execute_result",
          "data": {
            "text/plain": [
              "array([[10., 20.],\n",
              "       [30., 40.]])"
            ]
          },
          "metadata": {},
          "execution_count": 24
        }
      ]
    }
  ]
}